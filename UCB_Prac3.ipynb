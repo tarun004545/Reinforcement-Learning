{
  "nbformat": 4,
  "nbformat_minor": 0,
  "metadata": {
    "colab": {
      "provenance": [],
      "collapsed_sections": [],
      "authorship_tag": "ABX9TyMmgYG4tDIHS1yetUgVDRwa",
      "include_colab_link": true
    },
    "kernelspec": {
      "name": "python3",
      "display_name": "Python 3"
    },
    "language_info": {
      "name": "python"
    }
  },
  "cells": [
    {
      "cell_type": "markdown",
      "metadata": {
        "id": "view-in-github",
        "colab_type": "text"
      },
      "source": [
        "<a href=\"https://colab.research.google.com/github/tarun004545/Reinforcement-Learning/blob/main/Untitled2.ipynb\" target=\"_parent\"><img src=\"https://colab.research.google.com/assets/colab-badge.svg\" alt=\"Open In Colab\"/></a>"
      ]
    },
    {
      "cell_type": "code",
      "execution_count": 1,
      "metadata": {
        "id": "QPgh2X1blTgY"
      },
      "outputs": [],
      "source": [
        "import numpy as np\n",
        "import matplotlib.pyplot as plt\n",
        "import pandas as pd"
      ]
    },
    {
      "cell_type": "code",
      "source": [
        "dataset = pd.read_csv(\"/content/Ads_Optimisation.csv\")"
      ],
      "metadata": {
        "id": "1OworK8tmOgu"
      },
      "execution_count": 2,
      "outputs": []
    },
    {
      "cell_type": "code",
      "source": [
        "import random\n",
        "N= 10000\n",
        "d =10\n",
        "ads_selected =[]\n",
        "total_reward =0\n",
        "for n in range(0,N):\n",
        "  ad= random.randrange(d)\n",
        "  ads_selected.append(ad)\n",
        "  reward = dataset.values[n,ad]\n",
        "  total_reward = total_reward + reward\n"
      ],
      "metadata": {
        "id": "us48HdNrmee9"
      },
      "execution_count": 3,
      "outputs": []
    },
    {
      "cell_type": "code",
      "source": [
        "pd.Series(ads_selected).tail(1000).value_counts(normalize=True)"
      ],
      "metadata": {
        "colab": {
          "base_uri": "https://localhost:8080/"
        },
        "id": "dAUAlFh9mkt4",
        "outputId": "4d58d538-ae63-4b72-dc03-1382641bb2ef"
      },
      "execution_count": 4,
      "outputs": [
        {
          "output_type": "execute_result",
          "data": {
            "text/plain": [
              "3    0.117\n",
              "6    0.106\n",
              "1    0.106\n",
              "0    0.104\n",
              "9    0.099\n",
              "7    0.098\n",
              "5    0.095\n",
              "4    0.094\n",
              "2    0.091\n",
              "8    0.090\n",
              "dtype: float64"
            ]
          },
          "metadata": {},
          "execution_count": 4
        }
      ]
    },
    {
      "cell_type": "code",
      "source": [
        "pd.Series(ads_selected).tail(1000).value_counts(normalize=False)\n"
      ],
      "metadata": {
        "colab": {
          "base_uri": "https://localhost:8080/"
        },
        "id": "7JArPoBvmpKz",
        "outputId": "cf9b7426-f50e-43ec-9862-3df098e53f72"
      },
      "execution_count": 5,
      "outputs": [
        {
          "output_type": "execute_result",
          "data": {
            "text/plain": [
              "3    117\n",
              "6    106\n",
              "1    106\n",
              "0    104\n",
              "9     99\n",
              "7     98\n",
              "5     95\n",
              "4     94\n",
              "2     91\n",
              "8     90\n",
              "dtype: int64"
            ]
          },
          "metadata": {},
          "execution_count": 5
        }
      ]
    },
    {
      "cell_type": "code",
      "source": [
        "pd.Series(ads_selected).head(1000).value_counts(normalize=False)\n"
      ],
      "metadata": {
        "colab": {
          "base_uri": "https://localhost:8080/"
        },
        "id": "c_WY5ywJm7rY",
        "outputId": "75b03624-f040-437e-906a-b6edb6078d3e"
      },
      "execution_count": 6,
      "outputs": [
        {
          "output_type": "execute_result",
          "data": {
            "text/plain": [
              "5    117\n",
              "2    113\n",
              "6    106\n",
              "8    102\n",
              "4    100\n",
              "0    100\n",
              "1     98\n",
              "3     96\n",
              "9     92\n",
              "7     76\n",
              "dtype: int64"
            ]
          },
          "metadata": {},
          "execution_count": 6
        }
      ]
    },
    {
      "cell_type": "code",
      "source": [
        "import math\n",
        "N = 10000\n",
        "d = 10\n",
        "ads_selected =[]\n",
        "numbers_of_selections =[0] * d\n",
        "sums_of_reward = [0] * d\n",
        "total_reward = 0"
      ],
      "metadata": {
        "id": "tz7yYbr7nCmp"
      },
      "execution_count": 7,
      "outputs": []
    },
    {
      "cell_type": "code",
      "source": [
        "for n in range(0,N):\n",
        "  ad=0\n",
        "  max_upper_bound = 0\n",
        "  for i in range(0,d):\n",
        "    if (numbers_of_selections[i] > 0):\n",
        "      average_reward = sums_of_reward[i] / numbers_of_selections[i]\n",
        "      delta_i = math.sqrt(2 * math.log(n+1) / numbers_of_selections[i])\n",
        "      upper_bound =average_reward + delta_i\n",
        "    else:\n",
        "       upper_bound = 1e400\n",
        "       if upper_bound > max_upper_bound:\n",
        "         max_upper_bound = upper_bound\n",
        "         ad = i\n",
        "    ads_selected.append(ad)\n",
        "    numbers_of_selections[ad] += 1\n",
        "    reward = dataset.values[n, ad]\n",
        "    sums_of_reward[ad] += reward\n",
        "    total_reward += reward"
      ],
      "metadata": {
        "id": "pfa-HKwBnKMv"
      },
      "execution_count": 8,
      "outputs": []
    },
    {
      "cell_type": "code",
      "source": [
        "pd.Series(ads_selected).tail(1500).value_counts(normalize=True)\n"
      ],
      "metadata": {
        "colab": {
          "base_uri": "https://localhost:8080/"
        },
        "id": "wUn1bulhnQed",
        "outputId": "98985a4e-ccbe-4804-9290-ddec7246fa6b"
      },
      "execution_count": 9,
      "outputs": [
        {
          "output_type": "execute_result",
          "data": {
            "text/plain": [
              "0    1.0\n",
              "dtype: float64"
            ]
          },
          "metadata": {},
          "execution_count": 9
        }
      ]
    },
    {
      "cell_type": "code",
      "source": [
        "pd.Series(ads_selected).tail(10000).value_counts(normalize=True)"
      ],
      "metadata": {
        "colab": {
          "base_uri": "https://localhost:8080/"
        },
        "id": "lgi6liHznUUW",
        "outputId": "873ff5d1-d44b-4ceb-dd2c-1649718d66c6"
      },
      "execution_count": 10,
      "outputs": [
        {
          "output_type": "execute_result",
          "data": {
            "text/plain": [
              "0    1.0\n",
              "dtype: float64"
            ]
          },
          "metadata": {},
          "execution_count": 10
        }
      ]
    },
    {
      "cell_type": "code",
      "source": [
        "import math\n",
        "N = 10000\n",
        "d = 10\n",
        "ads_selected =[]\n",
        "numbers_of_selections =[0] * d\n",
        "sums_of_reward = [0] * d\n",
        "total_reward = 0\n",
        "for n in range(4000):\n",
        "  ad=0\n",
        "  max_upper_bound = 0\n",
        "  for i in range(0,d):\n",
        "    if (numbers_of_selections[i] > 0):\n",
        "      average_reward = sums_of_reward[i] / numbers_of_selections[i]\n",
        "      delta_i = math.sqrt(2 * math.log(n+1) / numbers_of_selections[i])\n",
        "      upper_bound =average_reward + delta_i\n",
        "    else:\n",
        "       upper_bound = 1e400\n",
        "       if upper_bound > max_upper_bound:\n",
        "         max_upper_bound = upper_bound\n",
        "         ad = i\n",
        "    ads_selected.append(ad)\n",
        "    numbers_of_selections[ad] += 1\n",
        "    reward = dataset.values[n, ad]\n",
        "    sums_of_reward[ad] += reward\n",
        "    total_reward += reward\n",
        "print(total_reward)\n"
      ],
      "metadata": {
        "colab": {
          "base_uri": "https://localhost:8080/"
        },
        "id": "UwIQjAyHnYYx",
        "outputId": "efd450f6-2411-4386-987b-8fcce731a85f"
      },
      "execution_count": 11,
      "outputs": [
        {
          "output_type": "stream",
          "name": "stdout",
          "text": [
            "6792\n"
          ]
        }
      ]
    },
    {
      "cell_type": "code",
      "source": [
        "pd.Series(ads_selected).tail(1500).value_counts(normalize=True)\n"
      ],
      "metadata": {
        "colab": {
          "base_uri": "https://localhost:8080/"
        },
        "id": "JPifmqx2nd7J",
        "outputId": "02e21c21-53c1-456f-db68-78a3d319bf88"
      },
      "execution_count": 12,
      "outputs": [
        {
          "output_type": "execute_result",
          "data": {
            "text/plain": [
              "0    1.0\n",
              "dtype: float64"
            ]
          },
          "metadata": {},
          "execution_count": 12
        }
      ]
    }
  ]
}
